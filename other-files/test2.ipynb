{
 "cells": [
  {
   "cell_type": "code",
   "execution_count": 1,
   "metadata": {},
   "outputs": [],
   "source": [
    "import pandas as pd\n",
    "import json\n",
    "from steel_order_api_to_python import steel_order_api_python"
   ]
  },
  {
   "cell_type": "code",
   "execution_count": 2,
   "metadata": {},
   "outputs": [],
   "source": [
    "my_api = steel_order_api_python()"
   ]
  },
  {
   "cell_type": "code",
   "execution_count": 37,
   "metadata": {},
   "outputs": [
    {
     "data": {
      "text/plain": [
       "pandas.core.series.Series"
      ]
     },
     "execution_count": 37,
     "metadata": {},
     "output_type": "execute_result"
    }
   ],
   "source": [
    "my_product_warehouses = my_api.request_product(7872468)\n",
    "for item in my_product_warehouses['product-warehouses']:\n",
    "    new_df = pd.DataFrame(item)\n",
    "type(new_df['warehouse-id'])"
   ]
  },
  {
   "cell_type": "code",
   "execution_count": 26,
   "metadata": {},
   "outputs": [
    {
     "name": "stdout",
     "output_type": "stream",
     "text": [
      "ESTE ES EL ITEM!!  <class 'list'>\n"
     ]
    }
   ],
   "source": [
    "for item in my_product_warehouses['product-warehouses']:\n",
    "        print(\"ESTE ES EL ITEM!! \", type(item))"
   ]
  },
  {
   "cell_type": "code",
   "execution_count": 23,
   "metadata": {},
   "outputs": [
    {
     "data": {
      "text/html": [
       "<div>\n",
       "<style scoped>\n",
       "    .dataframe tbody tr th:only-of-type {\n",
       "        vertical-align: middle;\n",
       "    }\n",
       "\n",
       "    .dataframe tbody tr th {\n",
       "        vertical-align: top;\n",
       "    }\n",
       "\n",
       "    .dataframe thead th {\n",
       "        text-align: right;\n",
       "    }\n",
       "</style>\n",
       "<table border=\"1\" class=\"dataframe\">\n",
       "  <thead>\n",
       "    <tr style=\"text-align: right;\">\n",
       "      <th></th>\n",
       "      <th>warehouse-id</th>\n",
       "      <th>minimum-stock</th>\n",
       "      <th>location</th>\n",
       "      <th>warehouse-path</th>\n",
       "      <th>real-stock</th>\n",
       "      <th>virtual-stock</th>\n",
       "    </tr>\n",
       "  </thead>\n",
       "  <tbody>\n",
       "    <tr>\n",
       "      <th>0</th>\n",
       "      <td>159</td>\n",
       "      <td>0</td>\n",
       "      <td>None</td>\n",
       "      <td>app.stelorder.com/app/warehouses/159</td>\n",
       "      <td>3</td>\n",
       "      <td>3</td>\n",
       "    </tr>\n",
       "    <tr>\n",
       "      <th>1</th>\n",
       "      <td>157</td>\n",
       "      <td>0</td>\n",
       "      <td>None</td>\n",
       "      <td>app.stelorder.com/app/warehouses/157</td>\n",
       "      <td>1</td>\n",
       "      <td>1</td>\n",
       "    </tr>\n",
       "    <tr>\n",
       "      <th>2</th>\n",
       "      <td>158</td>\n",
       "      <td>0</td>\n",
       "      <td>None</td>\n",
       "      <td>app.stelorder.com/app/warehouses/158</td>\n",
       "      <td>1</td>\n",
       "      <td>1</td>\n",
       "    </tr>\n",
       "    <tr>\n",
       "      <th>3</th>\n",
       "      <td>1009</td>\n",
       "      <td>0</td>\n",
       "      <td>None</td>\n",
       "      <td>app.stelorder.com/app/warehouses/1009</td>\n",
       "      <td>0</td>\n",
       "      <td>0</td>\n",
       "    </tr>\n",
       "    <tr>\n",
       "      <th>4</th>\n",
       "      <td>103</td>\n",
       "      <td>4</td>\n",
       "      <td>None</td>\n",
       "      <td>app.stelorder.com/app/warehouses/103</td>\n",
       "      <td>3</td>\n",
       "      <td>3</td>\n",
       "    </tr>\n",
       "    <tr>\n",
       "      <th>5</th>\n",
       "      <td>-2</td>\n",
       "      <td>15</td>\n",
       "      <td>None</td>\n",
       "      <td>app.stelorder.com/app/warehouses/-2</td>\n",
       "      <td>16</td>\n",
       "      <td>16</td>\n",
       "    </tr>\n",
       "    <tr>\n",
       "      <th>6</th>\n",
       "      <td>72</td>\n",
       "      <td>0</td>\n",
       "      <td>None</td>\n",
       "      <td>app.stelorder.com/app/warehouses/72</td>\n",
       "      <td>0</td>\n",
       "      <td>0</td>\n",
       "    </tr>\n",
       "  </tbody>\n",
       "</table>\n",
       "</div>"
      ],
      "text/plain": [
       "   warehouse-id  minimum-stock location  \\\n",
       "0           159              0     None   \n",
       "1           157              0     None   \n",
       "2           158              0     None   \n",
       "3          1009              0     None   \n",
       "4           103              4     None   \n",
       "5            -2             15     None   \n",
       "6            72              0     None   \n",
       "\n",
       "                          warehouse-path  real-stock  virtual-stock  \n",
       "0   app.stelorder.com/app/warehouses/159           3              3  \n",
       "1   app.stelorder.com/app/warehouses/157           1              1  \n",
       "2   app.stelorder.com/app/warehouses/158           1              1  \n",
       "3  app.stelorder.com/app/warehouses/1009           0              0  \n",
       "4   app.stelorder.com/app/warehouses/103           3              3  \n",
       "5    app.stelorder.com/app/warehouses/-2          16             16  \n",
       "6    app.stelorder.com/app/warehouses/72           0              0  "
      ]
     },
     "execution_count": 23,
     "metadata": {},
     "output_type": "execute_result"
    }
   ],
   "source": []
  }
 ],
 "metadata": {
  "kernelspec": {
   "display_name": "Python 3.10.7 ('venv': venv)",
   "language": "python",
   "name": "python3"
  },
  "language_info": {
   "codemirror_mode": {
    "name": "ipython",
    "version": 3
   },
   "file_extension": ".py",
   "mimetype": "text/x-python",
   "name": "python",
   "nbconvert_exporter": "python",
   "pygments_lexer": "ipython3",
   "version": "3.10.7"
  },
  "orig_nbformat": 4,
  "vscode": {
   "interpreter": {
    "hash": "6e68c872f5a847be998afe94e2ce4e37508758bc1be48cac9caeaf538858132b"
   }
  }
 },
 "nbformat": 4,
 "nbformat_minor": 2
}
